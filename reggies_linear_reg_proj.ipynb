{
 "cells": [
  {
   "cell_type": "markdown",
   "id": "5335f923-426a-4179-b105-ef703beb9b2b",
   "metadata": {},
   "source": [
    "### <span style='color:violet'>Reggie's Linear Regression</span>"
   ]
  },
  {
   "cell_type": "code",
   "execution_count": 1,
   "id": "fa4cbda7-659b-40ad-a4ac-a982b3077e99",
   "metadata": {},
   "outputs": [
    {
     "name": "stdout",
     "output_type": "stream",
     "text": [
      "True\n",
      "True\n"
     ]
    }
   ],
   "source": [
    "# 1) create get_y function that returns y value when provided with m, x, & b terms\n",
    "# y = mx + b\n",
    "\n",
    "def get_y(m, b, x):\n",
    "    y = (m*x) + b\n",
    "    return y\n",
    "\n",
    "# test the function (these should return True)\n",
    "print(get_y(1, 0, 7) == 7)\n",
    "print(get_y(5, 10, 3) == 25)"
   ]
  },
  {
   "cell_type": "code",
   "execution_count": 2,
   "id": "e429a9f3-e005-4722-91c9-26316bd282df",
   "metadata": {},
   "outputs": [],
   "source": [
    "# 2) define calc error function to calc the distance between a point and the line\n",
    "# takes inputs: m, b, & [x,y] point\n",
    "\n",
    "def calc_error(m, b, point):\n",
    "    x_point = point[0]\n",
    "    y_point = point[1]\n",
    "    y_value = get_y(m, b, x_point)\n",
    "\n",
    "    # diff_y represents the error between the line (y=mx+b) and the point\n",
    "    diff_y  = y_value - y_point\n",
    "    return abs(diff_y)\n",
    "\n",
    "# test the function ---\n",
    "# this is a line that looks like y = x, so (3, 3) should lie on it. thus, error should be 0:\n",
    "#print(calc_error(1, 0, (3, 3)))\n",
    "\n",
    "# the point (3, 4) should be 1 unit away from the line y = x:\n",
    "#print(calc_error(1, 0, (3, 4)))\n",
    "\n",
    "# the point (3, 3) should be 1 unit away from the line y = x - 1:\n",
    "#print(calc_error(1, -1, (3, 3)))\n",
    "\n",
    "# the point (3, 3) should be 5 units away from the line y = -x + 1:\n",
    "#print(calc_error(-1, 1, (3, 3)))"
   ]
  },
  {
   "cell_type": "code",
   "execution_count": 6,
   "id": "84eb712c-08d5-4e61-b315-2fef39a80e46",
   "metadata": {},
   "outputs": [
    {
     "name": "stdout",
     "output_type": "stream",
     "text": [
      "18\n"
     ]
    }
   ],
   "source": [
    "# 3) create function to calc all error using a line and a dataset of points\n",
    "\n",
    "def calc_all_error(m, b, points):\n",
    "\n",
    "    # init total error var\n",
    "    total_error = 0\n",
    "\n",
    "    # iterate over point in points & calc error for each point\n",
    "    for point in points:\n",
    "        # calc point error\n",
    "        point_error = calc_error(m, b, point)\n",
    "\n",
    "        # add point error to total error\n",
    "        total_error += point_error\n",
    "\n",
    "    return total_error\n",
    "\n",
    "\n",
    "# test the function ---\n",
    "datapoints = [(1, 1), (3, 3), (5, 5), (-1, -1)]\n",
    "\n",
    "# every point in this dataset lies upon y=x, so the total error should be zero:\n",
    "#print(calc_all_error(1, 0, datapoints))\n",
    "\n",
    "# every point in this dataset is 1 unit away from y = x + 1, so the total error should be 4:\n",
    "#print(calc_all_error(1, 1, datapoints))\n",
    "\n",
    "# every point in this dataset is 1 unit away from y = x - 1, so the total error should be 4:\n",
    "#print(calc_all_error(1, -1, datapoints))\n",
    "\n",
    "# the points in this dataset are 1, 5, 9, and 3 units away from y = -x + 1, respectively, so total error should be\n",
    "# 1 + 5 + 9 + 3 = 18\n",
    "#print(calc_all_error(-1, 1, datapoints))\n",
    "\n",
    "    "
   ]
  },
  {
   "cell_type": "code",
   "execution_count": 25,
   "id": "d273f868-b44e-418e-8210-1523c8357d50",
   "metadata": {},
   "outputs": [],
   "source": [
    "# 4) use list comprehension \n",
    "import numpy as np\n",
    "\n",
    "# Here is a more efficient way to solve the problem!!\n",
    "#def compute_data_list(a, b, dt):\n",
    "#    num_range  = (b - a) \n",
    "#    num_points = int((num_range/ dt)+1)\n",
    "#\n",
    "#    #data_list = [num for num in np.linspace(a, b, num_points)]\n",
    "#    data_list = np.linspace(a, b, num_points, dtype=float)\n",
    "#    return data_list\n",
    "#\n",
    "#data_list = compute_data_list(-20.0, 20.0, 0.1)\n",
    "\n",
    "# range is from a to b \n",
    "# num of points = (b - a) / step + 1\n",
    "# data range = (b - a)\n",
    "\n",
    "\n",
    "possible_ms = [m for m in np.arange(-10.0, 10.1, 0.1)]\n",
    "possible_ms_rounded = np.round(possible_ms, 1)\n",
    "\n",
    "possible_bs = [b for b in np.arange(-20.0, 20.1, 0.1)]\n",
    "possible_bs_rounded = np.round(possible_bs, 1)"
   ]
  },
  {
   "cell_type": "code",
   "execution_count": 29,
   "id": "003ed8df-464d-475d-9728-bda3e0c0aefa",
   "metadata": {},
   "outputs": [
    {
     "name": "stdout",
     "output_type": "stream",
     "text": [
      "The smallest error is: 5.0\n",
      "The best slope is: 0.4\n",
      "The best y-int is: 1.6\n"
     ]
    }
   ],
   "source": [
    "# 5) Now we need to iterate over every m and b values in the lists of ms and bs\n",
    "# check if the error is less than smallest_error for these m & b values for the datapoints\n",
    "# set best_m and best_b to be these values and smallest_error to be this value\n",
    "# Print out best_m, best_b and smallest_error after the loops\n",
    "\n",
    "# init error\n",
    "smallest_error = float('inf')\n",
    "\n",
    "# init best_m & best_b\n",
    "best_m = 0\n",
    "best_b = 0\n",
    "\n",
    "# datapoints to test\n",
    "datapoints = [(1, 2), (2, 0), (3, 4), (4, 4), (5, 3)]\n",
    "\n",
    "for m in possible_ms_rounded:\n",
    "    for b in possible_bs_rounded:\n",
    "        current_error = calc_all_error(m, b, datapoints)\n",
    "\n",
    "        if current_error < smallest_error:\n",
    "            smallest_error = current_error\n",
    "            best_m = m\n",
    "            best_b = b\n",
    "\n",
    "print(f'The smallest error is: {smallest_error}')\n",
    "print(f'The best slope is: {best_m}')\n",
    "print(f'The best y-int is: {best_b}')"
   ]
  },
  {
   "cell_type": "code",
   "execution_count": 30,
   "id": "c4e29386-d9fb-4165-8958-845414280c2d",
   "metadata": {},
   "outputs": [
    {
     "name": "stdout",
     "output_type": "stream",
     "text": [
      "4.0\n"
     ]
    }
   ],
   "source": [
    "# Now that we know the best line is y = 0.4x + 1.6\n",
    "# let's see what the estimates y is using the get_y function when x = 6\n",
    "\n",
    "predicted_y = get_y(0.4, 1.6, 6)\n",
    "print(predicted_y)"
   ]
  },
  {
   "cell_type": "code",
   "execution_count": null,
   "id": "17dfee05-442b-4924-a8c7-d7be05254b00",
   "metadata": {},
   "outputs": [],
   "source": []
  }
 ],
 "metadata": {
  "kernelspec": {
   "display_name": "Python 3 (ipykernel)",
   "language": "python",
   "name": "python3"
  },
  "language_info": {
   "codemirror_mode": {
    "name": "ipython",
    "version": 3
   },
   "file_extension": ".py",
   "mimetype": "text/x-python",
   "name": "python",
   "nbconvert_exporter": "python",
   "pygments_lexer": "ipython3",
   "version": "3.12.8"
  }
 },
 "nbformat": 4,
 "nbformat_minor": 5
}
