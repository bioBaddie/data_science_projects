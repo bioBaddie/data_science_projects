{
 "cells": [
  {
   "cell_type": "markdown",
   "id": "0b35cc7e-01b1-4af1-bc5f-d66a3b92fa5b",
   "metadata": {},
   "source": [
    "### <span style='color:violet'>This script has functions for decoding and encoding messages. It also contains an additional challenge decoder</span>"
   ]
  },
  {
   "cell_type": "code",
   "execution_count": 1,
   "id": "3851fd9a-e5ed-46ff-9542-da0d7da5b8f5",
   "metadata": {},
   "outputs": [],
   "source": [
    "# load imports\n",
    "from itertools import cycle"
   ]
  },
  {
   "cell_type": "code",
   "execution_count": null,
   "id": "5fa1db6d-2793-4624-a78d-320498a0ed1d",
   "metadata": {},
   "outputs": [],
   "source": [
    "message = \"\"\"xuo jxuhu! jxyi yi qd unqcfbu ev q squiqh syfxuh. \n",
    "             muhu oek qrbu je tusetu yj? y xefu ie! iudt cu q cuiiqwu \n",
    "             rqsa myjx jxu iqcu evviuj!\"\"\""
   ]
  },
  {
   "cell_type": "code",
   "execution_count": null,
   "id": "b362a6d4-92f3-4557-9917-e9b7dc26f420",
   "metadata": {},
   "outputs": [],
   "source": [
    "def decode_message(message, offset):\n",
    "    \n",
    "    # create list of alphabet letters\n",
    "    alphabet = [chr(letter) for letter in range(ord('a'), ord('z')+1)]\n",
    "\n",
    "    # init empty list to store deciphered message characters\n",
    "    decoded_message = []\n",
    "\n",
    "    # iterate over char in the message\n",
    "    for char in message:\n",
    "        if char in alphabet:\n",
    "            # get idx of char in alphabet\n",
    "            alph_idx = alphabet.index(char)\n",
    "    \n",
    "            # if the idx is out of range\n",
    "            if alph_idx + offset >= len(alphabet):\n",
    "                # get the remainder which becomes the new idx\n",
    "                updated_idx  = (alph_idx + offset) % (len(alphabet))\n",
    "                updated_char = alphabet[updated_idx]\n",
    "            else:\n",
    "                updated_idx  = alph_idx + offset\n",
    "                updated_char = alphabet[updated_idx]\n",
    "    \n",
    "            # append alphabet char to decoded_message\n",
    "            decoded_message.append(updated_char)\n",
    "    \n",
    "        else:\n",
    "            # if char is not in alphabet just append the char\n",
    "            decoded_message.append(char)\n",
    "\n",
    "    clean_message = \"\"\n",
    "    # iterate over decoded_message to store message in a single string that it's ez to read\n",
    "    for char in decoded_message:\n",
    "        clean_message += char\n",
    "        \n",
    "    print(clean_message)\n",
    "    return clean_message"
   ]
  },
  {
   "cell_type": "code",
   "execution_count": null,
   "id": "858aebab-cc49-4304-82b3-8e7461968433",
   "metadata": {},
   "outputs": [],
   "source": [
    "decode_message(message=message, offset=10)"
   ]
  },
  {
   "cell_type": "code",
   "execution_count": null,
   "id": "de389c8a-e0cb-4f29-a89a-0bc424ba384d",
   "metadata": {},
   "outputs": [],
   "source": [
    "new_message = \"hi friend! this waz fun :)\""
   ]
  },
  {
   "cell_type": "code",
   "execution_count": null,
   "id": "ef47afa2-c336-4064-828a-f1bdee0dbe47",
   "metadata": {},
   "outputs": [],
   "source": [
    "def encode_message(message, offset):\n",
    "    \n",
    "    # create list of alphabet letters\n",
    "    alphabet = [chr(letter) for letter in range(ord('a'), ord('z')+1)]\n",
    "\n",
    "    # init empty list to store deciphered message characters\n",
    "    encoded_message = []\n",
    "\n",
    "    # iterate over char in the message\n",
    "    for char in message:\n",
    "        if char in alphabet:\n",
    "            # get idx of char in alphabet\n",
    "            alph_idx = alphabet.index(char)\n",
    "    \n",
    "            # if the idx is out of range\n",
    "            if alph_idx - offset >= len(alphabet):\n",
    "                # get the remainder which becomes the new idx\n",
    "                updated_idx  = (alph_idx - offset) % (len(alphabet))\n",
    "                updated_char = alphabet[updated_idx]\n",
    "            else:\n",
    "                updated_idx  = alph_idx - offset\n",
    "                updated_char = alphabet[updated_idx]\n",
    "    \n",
    "            # append alphabet char to deciphered_message\n",
    "            encoded_message.append(updated_char)\n",
    "    \n",
    "        else:\n",
    "            # if char is not in alphabet just append the char\n",
    "            encoded_message.append(char)\n",
    "\n",
    "    clean_encoded = \"\"\n",
    "    # iterate over deciphered message to store message in a single string that it's ez to read\n",
    "    for char in encoded_message:\n",
    "        clean_encoded += char\n",
    "        \n",
    "    print(clean_encoded)\n",
    "    return clean_encoded"
   ]
  },
  {
   "cell_type": "code",
   "execution_count": null,
   "id": "1d292c5b-f186-4bc7-9d48-834b3c732991",
   "metadata": {},
   "outputs": [],
   "source": [
    "test_encoded = encode_message(message=new_message, offset=10)"
   ]
  },
  {
   "cell_type": "code",
   "execution_count": null,
   "id": "9a0bff8c-5e1c-4332-bfaf-e179a16e0b91",
   "metadata": {},
   "outputs": [],
   "source": [
    "message2 = \"jxu evviuj veh jxu iusedt cuiiqwu yi vekhjuud.\"\n",
    "\n",
    "message2_decoded = decode_message(message=message2, offset=10)"
   ]
  },
  {
   "cell_type": "code",
   "execution_count": null,
   "id": "ad432e61-d5c9-4688-8c92-9f66d97b1648",
   "metadata": {},
   "outputs": [],
   "source": [
    "message3 = \"bqdradyuzs ygxfubxq omqemd oubtqde fa oapq kagd yqeemsqe ue qhqz yadq eqogdq!\""
   ]
  },
  {
   "cell_type": "code",
   "execution_count": null,
   "id": "3995ebfb-4490-4b99-abbe-205f62eafdfd",
   "metadata": {},
   "outputs": [],
   "source": [
    "message3_decoded = decode_message(message=message3, offset=14)"
   ]
  },
  {
   "cell_type": "markdown",
   "id": "44ff5918-e0cb-4ccc-8cd5-bf9c44f394cd",
   "metadata": {},
   "source": [
    "### <span style='color:violet'>In this example the offset of the encoded message is unknown. I determine the needed offset to decipher the message we try different offsets in the range of 1-20</span>"
   ]
  },
  {
   "cell_type": "code",
   "execution_count": null,
   "id": "d4c68e5e-2c29-478e-b39d-650ce95d8184",
   "metadata": {},
   "outputs": [],
   "source": [
    "# brute force testing different offsets\n",
    "\n",
    "challenge_message = \"\"\"vhfinmxkl atox kxgwxkxw tee hy maxlx hew vbiaxkl hulhexmx. \n",
    "                       px'ee atox mh kxteer lmxi ni hnk ztfx by px ptgm mh dxxi \n",
    "                       hnk fxlltzxl ltyx.\"\"\"\n",
    "\n",
    "\n",
    "for offset in range(1, 20):\n",
    "    challenge_decoded = decode_message(message=challenge_message, offset=offset)"
   ]
  },
  {
   "cell_type": "code",
   "execution_count": null,
   "id": "f76c2208-11d3-4fff-9cdc-4e5e996f94fd",
   "metadata": {},
   "outputs": [],
   "source": [
    "challenge_decoded = decode_message(message=challenge_message, offset=7)"
   ]
  },
  {
   "cell_type": "markdown",
   "id": "b6996702-2a31-48f8-84f2-2ffcd6615321",
   "metadata": {},
   "source": [
    "### <span style='color:violet'>Extreme Challenge: Vigenere Cipher Edition</span>\n",
    "Here you need a code word to decipher the encrypted message --> Align each letter of the code word with each letter of the message (repeating the code word until all letters in the message have an associated code word letter.) The index of the code word letter tells you how much to shift the message letter index. "
   ]
  },
  {
   "cell_type": "code",
   "execution_count": 2,
   "id": "69b73f56-b7e7-47f2-b884-7e3a6e68dd24",
   "metadata": {},
   "outputs": [],
   "source": [
    "hard_message = \"\"\"txm srom vkda gl lzlgzr qpdb? fepb ejac! \n",
    "                  ubr imn tapludwy mhfbz cza ruxzal wg zztylktoikqq!\"\"\"\n",
    "\n",
    "\n",
    "code_word = \"friends\"\n",
    "\n",
    "# convert strings to lists\n",
    "hard_message_list = list(hard_message)\n",
    "code_word_list = list(code_word)"
   ]
  },
  {
   "cell_type": "code",
   "execution_count": 3,
   "id": "a7036028-9496-4019-8321-6129a509947a",
   "metadata": {},
   "outputs": [
    {
     "name": "stdout",
     "output_type": "stream",
     "text": [
      "Message character corresponding alphabet indices: [19, 23, 12, 18, 17, 14, 12, 21, 10, 3, 0, 6, 11, 11, 25, 11, 6, 25, 17, 16, 15, 3, 1, 5, 4, 15, 1, 4, 9, 0, 2, 20, 1, 17, 8, 12, 13, 19, 0, 15, 11, 20, 3, 22, 24, 12, 7, 5, 1, 25, 2, 25, 0, 17, 20, 23, 25, 0, 11, 22, 6, 25, 25, 19, 24, 11, 10, 19, 14, 8, 10, 16, 16]\n",
      "Code word letter corresponding alphabet indices: [5, 17, 8, 4, 13, 3, 18]\n"
     ]
    }
   ],
   "source": [
    "# here we get the alphabet indices corresponding to message & code word\n",
    "alphabet = [chr(letter) for letter in range(ord('a'), ord('z')+1)]\n",
    "\n",
    "# get alphabet indices for chars in hard_message_list\n",
    "message_char_alpha_idxs = []\n",
    "for char in hard_message_list:\n",
    "    if char in alphabet:\n",
    "        char_alpha_idx = alphabet.index(char)\n",
    "        message_char_alpha_idxs.append(char_alpha_idx)\n",
    "print(f'Message character corresponding alphabet indices: {message_char_alpha_idxs}')\n",
    "\n",
    "# get alphabet indices for chars in code_word_list\n",
    "code_word_char_alpha_idxs = []\n",
    "for letter in code_word_list:\n",
    "    letter_alpha_idx = alphabet.index(letter)\n",
    "    code_word_char_alpha_idxs.append(letter_alpha_idx)\n",
    "print(f'Code word letter corresponding alphabet indices: {code_word_char_alpha_idxs}')"
   ]
  },
  {
   "cell_type": "code",
   "execution_count": 4,
   "id": "53b63c61-4ee7-4d49-9085-cada97937423",
   "metadata": {},
   "outputs": [
    {
     "name": "stdout",
     "output_type": "stream",
     "text": [
      "youwereabletodecodethisniceworkyouarebecomingquitetheexpertatcryptography\n"
     ]
    }
   ],
   "source": [
    "# here we use cycle to repeat the code word indices across the entire message\n",
    "\n",
    "deciphered_chars = []\n",
    "\n",
    "\n",
    "for message_idx, code_idx in zip(message_char_alpha_idxs, cycle(code_word_char_alpha_idxs)):\n",
    "    updated_idx = (message_idx + code_idx)\n",
    "    if updated_idx >= len(alphabet):\n",
    "        updated_idx = updated_idx % (len(alphabet))\n",
    "        updated_char = alphabet[updated_idx]\n",
    "        deciphered_chars.append(updated_char)\n",
    "        \n",
    "    else:\n",
    "        updated_char = alphabet[updated_idx]\n",
    "        deciphered_chars.append(updated_char)\n",
    "    \n",
    "\n",
    "clean_message = \"\"\n",
    "for letter in deciphered_chars:\n",
    "    clean_message += letter\n",
    "\n",
    "print(clean_message)"
   ]
  },
  {
   "cell_type": "code",
   "execution_count": null,
   "id": "f71a8c82-403d-4ac8-a552-1e973522a8bb",
   "metadata": {},
   "outputs": [],
   "source": []
  },
  {
   "cell_type": "markdown",
   "id": "a93e26db-0655-4378-b565-a70e3b15c535",
   "metadata": {},
   "source": [
    "### <span style='color:violet'>We can see what the message says now, but it is missing the spaces and punctuation. Here we clean up the message so that it is easy to read</span>"
   ]
  },
  {
   "cell_type": "code",
   "execution_count": 7,
   "id": "2eb3adfc-b0d0-4d6b-8e47-402eceb7c310",
   "metadata": {},
   "outputs": [
    {
     "name": "stdout",
     "output_type": "stream",
     "text": [
      "you were able to decode this? nice work! \n",
      "                  you are becoming quite the expert at cryptography!\n"
     ]
    }
   ],
   "source": [
    "temp_message = []\n",
    "# place a '_' at each alphabet character in the hard_message_list, \n",
    "# creating a temporary message character list\n",
    "for char in hard_message_list:\n",
    "    if char in alphabet:\n",
    "        temp_message.append('_')\n",
    "    else:\n",
    "        temp_message.append(char)\n",
    "\n",
    "\n",
    "# get the final message by updating the '_' with the corresponding deciphered alphabet char\n",
    "# from the deciphered_chars list (Here we use letter_idx to keep track of the appropriate indices)\n",
    "final_message = []\n",
    "letter_idx = 0\n",
    "\n",
    "for char in temp_message:\n",
    "    if char == '_':\n",
    "        final_message.append(deciphered_chars[letter_idx])\n",
    "        letter_idx += 1\n",
    "    else:\n",
    "        final_message.append(char)\n",
    "\n",
    "final_message_string = \"\"\n",
    "for char in final_message:\n",
    "    final_message_string += char\n",
    "\n",
    "print(final_message_string)"
   ]
  },
  {
   "cell_type": "code",
   "execution_count": null,
   "id": "82649dec-9f53-4dd2-a234-b46ae22eab55",
   "metadata": {},
   "outputs": [],
   "source": []
  }
 ],
 "metadata": {
  "kernelspec": {
   "display_name": "Python 3 (ipykernel)",
   "language": "python",
   "name": "python3"
  },
  "language_info": {
   "codemirror_mode": {
    "name": "ipython",
    "version": 3
   },
   "file_extension": ".py",
   "mimetype": "text/x-python",
   "name": "python",
   "nbconvert_exporter": "python",
   "pygments_lexer": "ipython3",
   "version": "3.12.8"
  }
 },
 "nbformat": 4,
 "nbformat_minor": 5
}
