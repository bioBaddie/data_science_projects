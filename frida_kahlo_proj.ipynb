{
 "cells": [
  {
   "cell_type": "markdown",
   "id": "ea505971-f20b-4998-9cfd-87adc8d4b8c9",
   "metadata": {},
   "source": [
    "### <span style='color:plum'>Codecademy Frida Kahlo Project</span>\n"
   ]
  },
  {
   "cell_type": "code",
   "execution_count": 1,
   "id": "b3e5b9d3-6676-4b5d-8371-9c1c70667dd4",
   "metadata": {},
   "outputs": [],
   "source": [
    "paintings = ['The Two Fridas', 'My Dress Hangs Here', 'Tree of Hope', 'Self Portrait With Monkeys']\n",
    "dates     = [1939, 1933, 1946, 1940]"
   ]
  },
  {
   "cell_type": "code",
   "execution_count": 2,
   "id": "c87708cd-1143-423b-bf35-46c6765c3e62",
   "metadata": {},
   "outputs": [
    {
     "data": {
      "text/plain": [
       "[('The Two Fridas', 1939),\n",
       " ('My Dress Hangs Here', 1933),\n",
       " ('Tree of Hope', 1946),\n",
       " ('Self Portrait With Monkeys', 1940)]"
      ]
     },
     "execution_count": 2,
     "metadata": {},
     "output_type": "execute_result"
    }
   ],
   "source": [
    "# zip the two lists\n",
    "paintings = list(zip(paintings, dates))\n",
    "paintings"
   ]
  },
  {
   "cell_type": "code",
   "execution_count": 5,
   "id": "023e114c-8d36-4332-83e5-54378a3374e0",
   "metadata": {},
   "outputs": [],
   "source": [
    "paintings.append(('The Broken Column', 1944))\n",
    "paintings.append(('The Wounded Deer', 1946))\n",
    "paintings.append(('Me and My Doll', 1937))"
   ]
  },
  {
   "cell_type": "code",
   "execution_count": 6,
   "id": "30116034-cd3f-4f5b-8621-66f458b6d0d0",
   "metadata": {},
   "outputs": [
    {
     "data": {
      "text/plain": [
       "[('The Two Fridas', 1939),\n",
       " ('My Dress Hangs Here', 1933),\n",
       " ('Tree of Hope', 1946),\n",
       " ('Self Portrait With Monkeys', 1940),\n",
       " ('The Broken Column', 1944),\n",
       " ('The Wounded Deer', 1946),\n",
       " ('Me and My Doll', 1937)]"
      ]
     },
     "execution_count": 6,
     "metadata": {},
     "output_type": "execute_result"
    }
   ],
   "source": [
    "paintings"
   ]
  },
  {
   "cell_type": "code",
   "execution_count": 7,
   "id": "d5760945-f570-44f3-9471-a01fffc8b55d",
   "metadata": {},
   "outputs": [],
   "source": [
    "paintings_len = len(paintings)"
   ]
  },
  {
   "cell_type": "code",
   "execution_count": 10,
   "id": "61ac326b-5c87-451c-a204-0a336736c4e8",
   "metadata": {},
   "outputs": [
    {
     "name": "stdout",
     "output_type": "stream",
     "text": [
      "[1, 2, 3, 4, 5, 6]\n"
     ]
    }
   ],
   "source": [
    "audio_tour_number = list(range(1, paintings_len))\n",
    "print(audio_tour_number)"
   ]
  },
  {
   "cell_type": "code",
   "execution_count": 11,
   "id": "629569bc-c971-46c0-adba-4ffd0807ed19",
   "metadata": {},
   "outputs": [
    {
     "data": {
      "text/plain": [
       "[(1, ('The Two Fridas', 1939)),\n",
       " (2, ('My Dress Hangs Here', 1933)),\n",
       " (3, ('Tree of Hope', 1946)),\n",
       " (4, ('Self Portrait With Monkeys', 1940)),\n",
       " (5, ('The Broken Column', 1944)),\n",
       " (6, ('The Wounded Deer', 1946))]"
      ]
     },
     "execution_count": 11,
     "metadata": {},
     "output_type": "execute_result"
    }
   ],
   "source": [
    "master_list = list(zip(audio_tour_number, paintings))\n",
    "master_list"
   ]
  },
  {
   "cell_type": "code",
   "execution_count": null,
   "id": "9dd1724b-8ef9-413c-abc4-026055a0ca6b",
   "metadata": {},
   "outputs": [],
   "source": []
  }
 ],
 "metadata": {
  "kernelspec": {
   "display_name": "Python 3 (ipykernel)",
   "language": "python",
   "name": "python3"
  },
  "language_info": {
   "codemirror_mode": {
    "name": "ipython",
    "version": 3
   },
   "file_extension": ".py",
   "mimetype": "text/x-python",
   "name": "python",
   "nbconvert_exporter": "python",
   "pygments_lexer": "ipython3",
   "version": "3.12.8"
  }
 },
 "nbformat": 4,
 "nbformat_minor": 5
}
