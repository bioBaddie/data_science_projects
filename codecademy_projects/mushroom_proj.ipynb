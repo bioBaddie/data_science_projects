{
 "cells": [
  {
   "cell_type": "markdown",
   "id": "b34db31e-bc04-40b2-800e-fa6bbb3e858b",
   "metadata": {},
   "source": [
    "### <span style='color:skyblue'>Mushroom Project: Visualizing Categorical Data</span>"
   ]
  },
  {
   "cell_type": "code",
   "execution_count": null,
   "id": "29391b73-7c74-4741-b93c-63841921c552",
   "metadata": {},
   "outputs": [],
   "source": [
    "# imports\n",
    "import numpy as np\n",
    "import pandas as pd\n",
    "import os\n",
    "import matplotlib.pyplot as plt\n",
    "import seaborn as sns\n",
    "from matplotlib.ticker import MultipleLocator"
   ]
  },
  {
   "cell_type": "code",
   "execution_count": null,
   "id": "1af5a668-469b-4197-81f4-697bd58dc69e",
   "metadata": {},
   "outputs": [],
   "source": [
    "# set path to data\n",
    "input_folder = r'/Users/alexandrabrown/Desktop/data_science/datasets/exploring_mushrooms'\n",
    "input_file   = 'mushroom_data.csv'\n",
    "input_path   = os.path.join(input_folder, input_file)\n",
    "\n",
    "# load data into DataFrame\n",
    "df = pd.read_csv(input_path)\n",
    "df"
   ]
  },
  {
   "cell_type": "markdown",
   "id": "df73b8fe-efe4-4c07-b836-1004195248f9",
   "metadata": {},
   "source": [
    "#### <span style='color:skyblue'>Challenge 1: Create list of all column names --> iterate over columns and plot</span>\n",
    "- Add conditional for creating pie charts if there are fewer than 6 categories for a column variable"
   ]
  },
  {
   "cell_type": "code",
   "execution_count": null,
   "id": "91ce2911-ab4c-402d-ac44-50e96a543b0c",
   "metadata": {},
   "outputs": [],
   "source": [
    "cols_list = df.columns.to_list()\n",
    "\n",
    "for col in cols_list:\n",
    "    plt.rcParams['font.family'] = 'Times New Roman'\n",
    "\n",
    "    # count number of unique categories for current col\n",
    "    num_categories = df[col].nunique()\n",
    "    # if num categories is less than 6 then make a pie chart\n",
    "    if num_categories < 6:\n",
    "        # get labels\n",
    "        labels = df[col].value_counts().index\n",
    "        # get values as array\n",
    "        vals = list(df[col].value_counts().values)\n",
    "        plt.pie(x=vals, labels=labels, autopct='%.1f%%')\n",
    "        plt.axis('equal')\n",
    "        plt.show()\n",
    "        plt.clf()\n",
    "    # if more than 6 categories then make countplot\n",
    "    else:\n",
    "        sns.countplot(data=df, x=col, order=df[col].value_counts().index)\n",
    "        plt.title(f'{col} Value Counts', fontsize=12)\n",
    "        plt.ylabel('Count', fontsize=12)\n",
    "        plt.xlabel(col, fontsize=12)\n",
    "        plt.xticks(rotation=30, fontsize=10)\n",
    "        plt.tick_params(axis='both', which='major', length=3.5, width=2)\n",
    "        plt.show()\n",
    "        plt.clf()\n",
    "\n",
    "\n"
   ]
  },
  {
   "cell_type": "markdown",
   "id": "f00e50f4-f62f-4c16-a892-f2f8879a85e4",
   "metadata": {},
   "source": [
    "#### <span style='color:skyblue'>Challenge 2: create plots using list comprehension</span>\n",
    "This is poor coding practice, just a fun challenge"
   ]
  },
  {
   "cell_type": "code",
   "execution_count": null,
   "id": "244ff8dd-a37c-4dd5-b662-a1df46a3d071",
   "metadata": {},
   "outputs": [],
   "source": [
    "list_comp = [[sns.countplot(data=df, x=col, palette='Set2', hue=col), plt.show(), plt.clf()] for col in df.columns]"
   ]
  },
  {
   "cell_type": "code",
   "execution_count": null,
   "id": "7a145afb-dcbf-490e-96fd-33fe426caa6c",
   "metadata": {},
   "outputs": [],
   "source": []
  },
  {
   "cell_type": "markdown",
   "id": "3633e947-8b27-4fc5-8b12-55fdb4b8f229",
   "metadata": {},
   "source": [
    "#### <span style='color:skyblue'>Challenge 3: For columns that contain color information as their categories make the bars on the plot match the color category they represent</span>"
   ]
  },
  {
   "cell_type": "code",
   "execution_count": null,
   "id": "d41f4aa7-2d5e-47cc-9655-9b5a734aa755",
   "metadata": {},
   "outputs": [],
   "source": [
    "color_dict = {'black': '#111111',\n",
    "             'brown': '#906511',\n",
    "             'purple': '#9371CD',\n",
    "             'white': '#ECE8F3',\n",
    "             'green': '#50C668',\n",
    "             'blue': '#79CCE7',\n",
    "             'orange': '#EE9540',\n",
    "             'yellow': '#EEE140',\n",
    "             'pink': '#EE40D4',\n",
    "             'red': '#EE4840',\n",
    "             'gray': '#C2BCBC'}\n",
    "\n",
    "alt_color = '#FAE5D3'\n",
    "\n",
    "\n",
    "# create list of data col names\n",
    "col_names = df.columns.to_list()\n",
    "\n",
    "# text to search for in col names\n",
    "color_txt = 'color'\n",
    "\n",
    "for col_name in col_names:\n",
    "    # check if word 'color' is in column name\n",
    "    if color_txt in col_name.lower():\n",
    "        # initialize plotting_pal dict\n",
    "        plotting_pal = {}\n",
    "        # get unique categories for this color column (colors)\n",
    "        col_colors = df[col_name].unique()\n",
    "\n",
    "        for color in col_colors:\n",
    "            color_lower = color.lower()\n",
    "            if color_lower in color_dict:\n",
    "                plotting_pal[color] = color_dict[color_lower]\n",
    "            else:\n",
    "                plotting_pal[color] = alt_color\n",
    "\n",
    "        # plot the color column data using custom palette to match color categories\n",
    "        sns.countplot(data=df, x=col_name, order=df[col_name].value_counts().index, palette=plotting_pal, hue=col_name)\n",
    "        plt.xticks(rotation=30)\n",
    "        plt.show()\n",
    "        plt.clf()\n",
    "    else:\n",
    "        # plot the coloumn data using standard palette\n",
    "        sns.countplot(data=df, x=col_name, order=df[col_name].value_counts().index, palette='Set2', hue=col_name)\n",
    "        plt.xticks(rotation=30)\n",
    "        plt.show()\n",
    "        plt.clf()        "
   ]
  },
  {
   "cell_type": "code",
   "execution_count": null,
   "id": "4f83e167-4b50-41e9-8c64-db06fddf9019",
   "metadata": {},
   "outputs": [],
   "source": []
  }
 ],
 "metadata": {
  "kernelspec": {
   "display_name": "Python 3 (ipykernel)",
   "language": "python",
   "name": "python3"
  },
  "language_info": {
   "codemirror_mode": {
    "name": "ipython",
    "version": 3
   },
   "file_extension": ".py",
   "mimetype": "text/x-python",
   "name": "python",
   "nbconvert_exporter": "python",
   "pygments_lexer": "ipython3",
   "version": "3.12.8"
  }
 },
 "nbformat": 4,
 "nbformat_minor": 5
}
