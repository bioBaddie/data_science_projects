{
 "cells": [
  {
   "cell_type": "markdown",
   "id": "38ce25de-268c-419b-9a85-29e3cb4c9cd2",
   "metadata": {},
   "source": [
    "### <span style='color:pink'>Codecademy jeopardy project -- data wrangling practice</span>"
   ]
  },
  {
   "cell_type": "code",
   "execution_count": null,
   "id": "d54be9e4-e045-43fc-b998-4f707b558764",
   "metadata": {},
   "outputs": [],
   "source": [
    "# imports\n",
    "import pandas as pd\n",
    "import numpy as np\n",
    "import os\n",
    "import re"
   ]
  },
  {
   "cell_type": "code",
   "execution_count": null,
   "id": "522565fe-dd7b-477e-a3ff-4757c5799fe3",
   "metadata": {},
   "outputs": [],
   "source": [
    "# set path to data & load\n",
    "input_folder = '/Users/alexandrabrown/Desktop/data_science/datasets/Jeopardy'\n",
    "input_file   = 'jeopardy.csv'\n",
    "input_path   = os.path.join(input_folder, input_file)\n",
    "\n",
    "df = pd.read_csv(input_path)\n",
    "df"
   ]
  },
  {
   "cell_type": "markdown",
   "id": "62438876-8db3-4d67-a87f-d7468f31817d",
   "metadata": {},
   "source": [
    "### <span style='color:pink'>Update column names!</span>\n",
    "remove leading spaces, replace middle spaces with '_', and make all text lowercase"
   ]
  },
  {
   "cell_type": "code",
   "execution_count": null,
   "id": "8529e742-ed4a-4bc7-a120-86db833de2b9",
   "metadata": {},
   "outputs": [],
   "source": [
    "df.columns = df.columns.str.strip().str.replace(' ', '_').str.lower()\n",
    "df"
   ]
  },
  {
   "cell_type": "markdown",
   "id": "439913d2-7b7c-420c-a502-8f29ab3d3a97",
   "metadata": {},
   "source": [
    "### <span style='color:pink'>Write a function that filters the DataFrame for questions that contain all words in an input list</span>\n",
    "The function below searches for words in a case insensitive manner since we make everything lowercase in the `lambda_filt` function"
   ]
  },
  {
   "cell_type": "code",
   "execution_count": null,
   "id": "5a7735d3-a6b1-431b-9caa-a5bab1dbd3b6",
   "metadata": {},
   "outputs": [],
   "source": [
    "def filter_by_question_words(df, word_list):\n",
    "    # lambda function that filters for words in word_list and is case insensitive\n",
    "    lambda_filt = lambda x: all(word.lower() in x.lower() for word in word_list)\n",
    "    \n",
    "    # apply lambda function to input DataFrame\n",
    "    mask    = df['question'].apply(lambda_filt)\n",
    "    # filter the DataFrame using the mask\n",
    "    filt_df = df[mask].reset_index(drop=True)\n",
    "    return filt_df\n",
    "    \n",
    "    \n",
    "word_list = ['king', 'England']\n",
    "filt_df = filter_by_question_words(df=df, word_list=word_list)\n",
    "filt_df"
   ]
  },
  {
   "cell_type": "markdown",
   "id": "a69f7e9a-90d1-4bf9-880d-893f72ce758f",
   "metadata": {},
   "source": [
    "### <span style='color:pink'>The way the question filtering function is writen above will also keep rows if the word of interest is within another word</span>\n",
    "For example: if we filter by `['king', 'England']` then we also keep questions where king is part of a word: 'kingdom'\n",
    "<span style='color:pink'>Update the question filtering function to only grab rows that have the words of interest -- not those where the word is part of another word</span>"
   ]
  },
  {
   "cell_type": "code",
   "execution_count": null,
   "id": "79a65cc9-5db4-40ba-bf8f-5f314648ed33",
   "metadata": {},
   "outputs": [],
   "source": [
    "def refined_question_filter(df, word_list):\n",
    "    \n",
    "    # init list to store matching rows\n",
    "    matching_rows = []\n",
    "    \n",
    "    # iterate over each row in the DataFrame\n",
    "    for idx, row in df.iterrows():\n",
    "        # grab the question for this row\n",
    "        question = row['question']\n",
    "        \n",
    "        # turn question into list -- need to use regex here to prevent punctuation from being included in words\n",
    "        question_list = re.findall(r\"\\b[\\w']+\\b\", question.lower())\n",
    "        \n",
    "        # determine if there is a match\n",
    "        if all(word.lower() in question_list for word in word_list):\n",
    "            matching_rows.append(idx)\n",
    "            \n",
    "    return df.loc[matching_rows].reset_index(drop=True)\n",
    "            \n",
    "            \n",
    "filt_df2 = refined_question_filter(df=df, word_list=word_list)\n",
    "filt_df2"
   ]
  },
  {
   "cell_type": "markdown",
   "id": "fb325f3d-77b8-49ac-96c7-243c55959e02",
   "metadata": {},
   "source": [
    "### <span style='color:pink'>More elegant version of the previous function!</span>\n",
    "This time we define the funciton to operate on rows as opposed to operating on the entire DataFrame "
   ]
  },
  {
   "cell_type": "code",
   "execution_count": null,
   "id": "d8ad9f15-f48d-40f1-8a59-8760d147f377",
   "metadata": {},
   "outputs": [],
   "source": [
    "word_list = ['king']\n",
    "\n",
    "def row_matches(row, word_list):\n",
    "    # grab question for this row\n",
    "    question = row['question']\n",
    "    \n",
    "    # turn question text into list (tokenize)\n",
    "    question_list = re.findall(r\"\\b[\\w']+\\b\", question.lower())\n",
    "    \n",
    "    return all(word.lower() in question_list for word in word_list)\n",
    "\n",
    "filt_df = df[df.apply(row_matches, word_list=word_list, axis=1)].reset_index(drop=True)\n",
    "filt_df"
   ]
  },
  {
   "cell_type": "markdown",
   "id": "a18040e5-850d-4ea9-a662-dd1af58dd030",
   "metadata": {},
   "source": [
    "### <span style='color:pink'>1) Convert value column from str to float 2) Use the new float column to find the difficulty of certain topics</span>\n",
    "Example: what is the average value of questions that contain the word \"King\"?"
   ]
  },
  {
   "cell_type": "code",
   "execution_count": null,
   "id": "7ebd752c-48ad-4d1a-9adc-07712722db14",
   "metadata": {},
   "outputs": [],
   "source": [
    "# clean up the value column & convert to float\n",
    "df['value'] = (df['value']\n",
    "               .astype(str)\n",
    "               .str.strip()\n",
    "               .str.replace(r'[$,]', '', regex=True))\n",
    "\n",
    "df['value'] = pd.to_numeric(df['value'], errors='coerce')\n",
    "df['value'] = df['value'].astype(float)\n",
    "\n",
    "\n",
    "# avg val of questions with the word 'king'\n",
    "word_list = ['king']\n",
    "df_filt_by_word_val = df[df.apply(row_matches, word_list=word_list, axis=1)]\n",
    "avg_word_val = df_filt_by_word_val['value'].mean()\n",
    "print(f'The average value for questions containing the word \"king\" is: {avg_word_val:.2f}')"
   ]
  },
  {
   "cell_type": "markdown",
   "id": "8e0b1fcc-4652-466d-9532-43107fa879b3",
   "metadata": {},
   "source": [
    "### <span style='color:pink'>Write function to find the number of unique answers to each question</span>\n",
    "For example, after filtering the entire dataset for only questions containing the word \"King\", we could then find all of the unique answers to those questions. The answer “Henry VIII” appeared 45 times and was the most common answer"
   ]
  },
  {
   "cell_type": "code",
   "execution_count": null,
   "id": "f80977a7-003b-4ef0-8bed-b870129d4681",
   "metadata": {},
   "outputs": [],
   "source": [
    "def number_unique_answers(df, word_list):\n",
    "    # filter the df by words in word list\n",
    "    filt_df = df[df.apply(row_matches, word_list=word_list, axis=1)]\n",
    "    # count number of instances for each answer in the filt_df -- save in dict\n",
    "    answer_count_dict = filt_df['answer'].value_counts().to_dict()\n",
    "    return answer_count_dict\n",
    "\n",
    "# function call    \n",
    "word_list = ['king']\n",
    "answer_count_dict = number_unique_answers(df=df, word_list=word_list)\n",
    "\n",
    "# display first key value pair from answer_count_dict\n",
    "answer_iter = iter(answer_count_dict.items())\n",
    "top_answer  = next(answer_iter)\n",
    "print(top_answer)"
   ]
  },
  {
   "cell_type": "markdown",
   "id": "375f1c5b-9dc1-4577-ba61-8846954a2940",
   "metadata": {},
   "source": [
    "### <span style='color:pink'>Next steps</span>\n",
    "1) How many questions from the 90s use the word \"Computer\" compared to questions from the 2000s?"
   ]
  },
  {
   "cell_type": "code",
   "execution_count": null,
   "id": "32407231-a5e7-483e-85da-d8420262074c",
   "metadata": {},
   "outputs": [],
   "source": [
    "# 1) Filter by year (grabbing 1990-1999) then use the row_matches func to find questions \n",
    "# with the word 'computer'\n",
    "\n",
    "# convert dates from str to datetime\n",
    "df['air_date'] = pd.to_datetime(df['air_date'])\n",
    "\n",
    "# set start & stop dates for range of interest\n",
    "start_date = '1990-01-01'\n",
    "end_date   = '1999-12-31'\n",
    "\n",
    "word = ['computer']\n",
    "\n",
    "# filter by date range\n",
    "df_90s = df[(df['air_date'] > start_date) & (df['air_date'] < end_date)]\n",
    "# use date range filtered df and filter by word\n",
    "df_90s_computer = df_90s[df_90s.apply(row_matches, word_list=word, axis=1)].reset_index(drop=True)\n",
    "df_90s_computer\n"
   ]
  },
  {
   "cell_type": "markdown",
   "id": "74d541c0-7c8d-4d3e-b048-97bf7a9828f3",
   "metadata": {},
   "source": [
    "2. Is there a connection between the round and the category? Are you more likely to find certain categories, like \"Literature\" in Single Jeopardy or Double Jeopardy?"
   ]
  },
  {
   "cell_type": "code",
   "execution_count": null,
   "id": "368a3e00-5a04-49eb-9c01-35f33fa5768f",
   "metadata": {},
   "outputs": [],
   "source": [
    "# first pass exploration of the data\n",
    "grouped_df = df.groupby('round')['category'].value_counts()\n",
    "\n",
    "\n",
    "# we can make this easier to read using crosstab\n",
    "cat_proportions = pd.crosstab(df['category'], df['round'], normalize='index')\n",
    "\n",
    "# now filter for 'literature' not case sensitive!\n",
    "cat_filt = cat_proportions[cat_proportions.index.str.contains('literature', case=False)]\n",
    "# since there's a lot of different literature categories lets just sum the columns to see which \n",
    "# round has the most literature questions\n",
    "cat_filt_sums = cat_filt.sum()\n",
    "cat_filt_sums"
   ]
  },
  {
   "cell_type": "markdown",
   "id": "d8275170-82d3-465f-bd06-4e3011536402",
   "metadata": {},
   "source": [
    "3. Build a system to quiz yourself. Grab random questions, and use the input function to get a response from the user. Check to see if that response was right or wrong."
   ]
  },
  {
   "cell_type": "code",
   "execution_count": null,
   "id": "b1599f9f-3cf1-4a1f-8db3-f6fb344a6a74",
   "metadata": {},
   "outputs": [],
   "source": [
    "# JEOPARD QUIZ FUNCTION\n",
    "def jeopardy_quiz(df):\n",
    "    # grab random sample question and answer from jeopardy df\n",
    "    question_answer = df[['question', 'answer']].sample(n=1)\n",
    "    \n",
    "    # get question string\n",
    "    question = question_answer['question'].iloc[0]\n",
    "    # get answer string\n",
    "    answer = question_answer['answer'].iloc[0]\n",
    "    \n",
    "    # ask user the question & prompt input\n",
    "    user_input = input(question)\n",
    "    \n",
    "    # clean up answer and user input for comparison\n",
    "    user_answer   = user_input.strip().lower()\n",
    "    actual_answer = answer.strip().lower()\n",
    "    \n",
    "    # tokenize actual answer into words to prevent partial matches\n",
    "    actual_answer_words = re.findall(r\"\\b[w']+\\b\", actual_answer)\n",
    "    \n",
    "    # compare user answer to actual answer words\n",
    "    if user_answer in actual_answer_words:\n",
    "        print('--> CORRECT!!')\n",
    "    else:\n",
    "        print(f'--> INCORRECT! {actual_answer} is the correct answer.')"
   ]
  },
  {
   "cell_type": "markdown",
   "id": "215c6188-46e7-4118-b839-29a2ce8f9d49",
   "metadata": {},
   "source": [
    "### <span style='color:HotPink'>Run the next cell the play the jeopardy game!</span>\n",
    "You will be prompted for an input!"
   ]
  },
  {
   "cell_type": "code",
   "execution_count": null,
   "id": "5345be56-8ed3-490f-8753-fc39a6167dd3",
   "metadata": {},
   "outputs": [],
   "source": [
    "jeopardy_quiz(df=df)"
   ]
  },
  {
   "cell_type": "code",
   "execution_count": null,
   "id": "43f29eb4-0581-457c-a1b1-c74dc8a5cacf",
   "metadata": {},
   "outputs": [],
   "source": []
  }
 ],
 "metadata": {
  "kernelspec": {
   "display_name": "Python 3 (ipykernel)",
   "language": "python",
   "name": "python3"
  },
  "language_info": {
   "codemirror_mode": {
    "name": "ipython",
    "version": 3
   },
   "file_extension": ".py",
   "mimetype": "text/x-python",
   "name": "python",
   "nbconvert_exporter": "python",
   "pygments_lexer": "ipython3",
   "version": "3.12.8"
  }
 },
 "nbformat": 4,
 "nbformat_minor": 5
}
