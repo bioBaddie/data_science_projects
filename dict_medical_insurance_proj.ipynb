{
 "cells": [
  {
   "cell_type": "markdown",
   "id": "bfa066ec-5d51-4204-aa46-c5dbceaaa386",
   "metadata": {},
   "source": [
    "### <span style='color:skyblue'>Python Dictionaries: Medical Insurance Project</span>"
   ]
  },
  {
   "cell_type": "code",
   "execution_count": null,
   "id": "d0a58c0b-5015-4968-9fa1-7be234945db1",
   "metadata": {},
   "outputs": [],
   "source": [
    "# init empty dict\n",
    "medical_costs = {}\n",
    "# add Marian & Vinay\n",
    "medical_costs['Marina'] = 6607.0\n",
    "medical_costs['Vinay'] = 3225.0"
   ]
  },
  {
   "cell_type": "code",
   "execution_count": null,
   "id": "680dca9a-7600-49da-aeb8-075d4741fc54",
   "metadata": {},
   "outputs": [],
   "source": [
    "# use update function to add multiple people into medical_costs all on one line\n",
    "medical_costs.update({'Connie': 8886.0, 'Isaac': 16444.0, 'Valentina': 6420.0})\n",
    "medical_costs"
   ]
  },
  {
   "cell_type": "code",
   "execution_count": null,
   "id": "4238d12f-28d7-46d8-bc11-ef4a724c4af1",
   "metadata": {},
   "outputs": [],
   "source": [
    "# update Vinay's medical cost\n",
    "medical_costs['Vinay'] = 3325.0"
   ]
  },
  {
   "cell_type": "code",
   "execution_count": null,
   "id": "0d5d210b-2eed-47a4-8da8-f9603e40101b",
   "metadata": {},
   "outputs": [],
   "source": [
    "# calculate average medical cost\n",
    "total_cost = 0\n",
    "for key, value in medical_costs.items():\n",
    "    total_cost += value\n",
    "\n",
    "average_cost = total_cost / len(medical_costs)\n",
    "print(f'The average insurance cost is: {average_cost}')"
   ]
  },
  {
   "cell_type": "markdown",
   "id": "5b9faeac-f376-4d06-b01f-4bc972b89d14",
   "metadata": {},
   "source": [
    "#### <span style='color:skyblue'>List comprehension practice</span>"
   ]
  },
  {
   "cell_type": "code",
   "execution_count": null,
   "id": "dba28a70-bd9f-45a1-a07f-67b21af847f8",
   "metadata": {},
   "outputs": [],
   "source": [
    "names = ['Marina', 'Vinay', 'Connie', 'Isaac', 'Valentina']\n",
    "ages  = [27, 24, 43, 35, 52]\n",
    "zipped_ages = list(zip(names, ages))\n",
    "\n",
    "# create dict using list comprehension iterating through zipped_ages\n",
    "names_to_ages = {name: age for name, age in zipped_ages}\n",
    "print(names_to_ages)\n"
   ]
  },
  {
   "cell_type": "code",
   "execution_count": null,
   "id": "0b8d3c9c-66d4-452f-ae2e-74d665d90b4a",
   "metadata": {},
   "outputs": [],
   "source": [
    "# use get function to grab Marina's age (will return None if key is not present)\n",
    "marina_age = names_to_ages.get('Marina')\n",
    "print(f\"Marina's age is: {marina_age}\")"
   ]
  },
  {
   "cell_type": "markdown",
   "id": "d3ee37ef-8082-4108-94dc-90ea57a5d8a9",
   "metadata": {},
   "source": [
    "#### <span style='color:skyblue'>Using a dictionary to create a medical database</span>"
   ]
  },
  {
   "cell_type": "code",
   "execution_count": null,
   "id": "113e08b3-34f3-4d65-95b1-bc164b3ae12d",
   "metadata": {},
   "outputs": [],
   "source": [
    "medical_records = {}\n",
    "\n",
    "# add Marina's data\n",
    "medical_records['Marina'] = {\"Age\": 27, \n",
    "                             \"Sex\": \"Female\", \n",
    "                             \"BMI\": 31.1, \n",
    "                             \"Children\": 2, \n",
    "                             \"Smoker\": \"Non-smoker\", \n",
    "                             \"Insurance_cost\": 6607.0}"
   ]
  },
  {
   "cell_type": "code",
   "execution_count": null,
   "id": "3164cfc5-c61c-4952-9d02-3edc4ba5caee",
   "metadata": {},
   "outputs": [],
   "source": [
    "# add everyone's data into medical_records\n",
    "medical_records.update({'Vinay': {'Age': 24, 'Sex':'Male', 'BMI': 26.9, 'Children':0, \n",
    "                                  'Smoker': 'Non-smoker', 'Insurance_cost':3225.0},\n",
    "                       'Connie': {'Age':43, 'Sex':'Female', 'BMI':25.3, 'Children':3,\n",
    "                                 'Smoker': 'Non-smoker', 'Insurance_cost':8886.0},\n",
    "                       'Isaac': {'Age':35, 'Sex':'Male', 'BMI':20.6, 'Children':4,\n",
    "                                 'Smoker': 'Smoker', 'Insurance_cost':16444.0},\n",
    "                       'Valentina': {'Age':52, 'Sex':'Female', 'BMI':18.7, 'Children':1,\n",
    "                                 'Smoker': 'Non-smoker', 'Insurance_cost':6420.0}})\n",
    "\n",
    "medical_records"
   ]
  },
  {
   "cell_type": "code",
   "execution_count": null,
   "id": "c625560d-28e4-42cd-9ce2-14cf77d39e57",
   "metadata": {},
   "outputs": [],
   "source": [
    "# print Connies insurance cost from the dict database\n",
    "connies_cost = medical_records['Connie']['Insurance_cost']\n",
    "print(f\"Connie's insurance cost is: ${connies_cost} dollars\")"
   ]
  },
  {
   "cell_type": "code",
   "execution_count": null,
   "id": "71267ca6-775c-4b91-bc23-032e30b305f0",
   "metadata": {},
   "outputs": [],
   "source": [
    "# remove Vinary from the database\n",
    "del medical_records['Vinay']\n",
    "medical_records"
   ]
  },
  {
   "cell_type": "code",
   "execution_count": null,
   "id": "e5ff96ec-c89c-4cd3-bd6d-e94cd0ad2ba5",
   "metadata": {},
   "outputs": [],
   "source": [
    "# iterate over medical records, printing a string with all the information for each person\n",
    "for name, info in medical_records.items():\n",
    "    age = info['Age']\n",
    "    sex = info['Sex']\n",
    "    bmi = info['BMI']\n",
    "    children = info['Children']\n",
    "    smoker = info['Smoker']\n",
    "    cost = info['Insurance_cost']\n",
    "\n",
    "    print(f'{name} is a {age} year old {sex} {smoker} with a BMI of {bmi} and insurance cost of ${cost}\\n')"
   ]
  },
  {
   "cell_type": "markdown",
   "id": "3cafe303-80ce-4b7a-a647-73ce986d99e8",
   "metadata": {},
   "source": [
    "#### <span style='color:skyblue'>Bonus exercises</span>"
   ]
  },
  {
   "cell_type": "code",
   "execution_count": null,
   "id": "4b8aad87-bc63-4531-9798-5ef2d0a992e2",
   "metadata": {},
   "outputs": [],
   "source": [
    "# create update_medical_records function\n",
    "def update_medical_records(medical_records, name, data):\n",
    "    \"\"\"\n",
    "    updates the medical_records dict with the new patient info\n",
    "    \n",
    "    Parameters:\n",
    "    -----------\n",
    "        medical_records: dict to be updated\n",
    "        \n",
    "        name: str \n",
    "\n",
    "        data: dict of patient data\n",
    "        \n",
    "    Returns:\n",
    "    --------\n",
    "        medical_records: dict witht the updated information included\n",
    "    \"\"\"\n",
    "    medical_records.update({name:data})\n",
    "    return medical_records\n",
    "\n",
    "# test function call\n",
    "name = 'Keiko'\n",
    "data = {'Age': 15,\n",
    "       'Sex': 'Female',\n",
    "       'BMI': 19,\n",
    "       'Children': 0,\n",
    "       'Smoker': 'Non-smoker',\n",
    "       'Insurance_cost': 0}\n",
    "    \n",
    "medical_records = update_medical_records(name=name, data=data, medical_records=medical_records)\n",
    "print(medical_records)"
   ]
  },
  {
   "cell_type": "code",
   "execution_count": null,
   "id": "d95f8525-2431-4b65-85c7-8d0c9dee4060",
   "metadata": {},
   "outputs": [],
   "source": []
  }
 ],
 "metadata": {
  "kernelspec": {
   "display_name": "Python 3 (ipykernel)",
   "language": "python",
   "name": "python3"
  },
  "language_info": {
   "codemirror_mode": {
    "name": "ipython",
    "version": 3
   },
   "file_extension": ".py",
   "mimetype": "text/x-python",
   "name": "python",
   "nbconvert_exporter": "python",
   "pygments_lexer": "ipython3",
   "version": "3.12.8"
  }
 },
 "nbformat": 4,
 "nbformat_minor": 5
}
